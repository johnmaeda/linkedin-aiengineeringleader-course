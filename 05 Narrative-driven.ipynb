{
 "cells": [
  {
   "cell_type": "markdown",
   "metadata": {},
   "source": [
    "# Prompts are **Narrative-driven.** And that's not obvious at first because it's easier to give a computer 1 or 2 word 'commands' instead of delving deeper into the world of storycraft. That's why upping your liberal arts game can not only make you a better leader, but also a better AI engineer, too."
   ]
  },
  {
   "cell_type": "markdown",
   "metadata": {},
   "source": [
    "## 🔥 We warm up a kernel"
   ]
  },
  {
   "cell_type": "code",
   "execution_count": null,
   "metadata": {
    "dotnet_interactive": {
     "language": "csharp"
    },
    "polyglot_notebook": {
     "kernelName": "csharp"
    },
    "vscode": {
     "languageId": "polyglot-notebook"
    }
   },
   "outputs": [],
   "source": [
    "#r \"nuget: Microsoft.SemanticKernel, 1.1.0\""
   ]
  },
  {
   "cell_type": "code",
   "execution_count": null,
   "metadata": {
    "dotnet_interactive": {
     "language": "csharp"
    },
    "polyglot_notebook": {
     "kernelName": "csharp"
    },
    "vscode": {
     "languageId": "polyglot-notebook"
    }
   },
   "outputs": [],
   "source": [
    "// Load settings\n",
    "#!import config/Settings.cs \n",
    "#!import config/Utils.cs \n",
    "\n",
    "var (useAzureOpenAI, model, azureEndpoint, apiKey, orgId) = Settings.LoadFromFile();"
   ]
  },
  {
   "cell_type": "code",
   "execution_count": null,
   "metadata": {
    "dotnet_interactive": {
     "language": "csharp"
    },
    "polyglot_notebook": {
     "kernelName": "csharp"
    },
    "vscode": {
     "languageId": "polyglot-notebook"
    }
   },
   "outputs": [],
   "source": [
    "using System;\n",
    "using System.Threading.Tasks;\n",
    "using Microsoft.SemanticKernel;\n",
    "using Microsoft.SemanticKernel.Connectors.OpenAI;\n",
    "\n",
    "using SemanticKernel = Microsoft.SemanticKernel.Kernel;\n",
    "\n",
    "// Create a kernel with OpenAI chat completion\n",
    "SemanticKernel kernel = SemanticKernel.CreateBuilder()\n",
    "    .AddOpenAIChatCompletion(\n",
    "        modelId: model,\n",
    "        apiKey: apiKey)\n",
    "    .Build();"
   ]
  },
  {
   "cell_type": "markdown",
   "metadata": {},
   "source": [
    "## 📖 It's story time! Gather around, friends!"
   ]
  },
  {
   "cell_type": "markdown",
   "metadata": {},
   "source": [
    "| Beginning | Middle | End |\n",
    "|---|---|---|\n",
    "| Meet the protagonist | Experience their journey | What happened? |"
   ]
  },
  {
   "cell_type": "code",
   "execution_count": null,
   "metadata": {
    "dotnet_interactive": {
     "language": "csharp"
    },
    "polyglot_notebook": {
     "kernelName": "csharp"
    },
    "vscode": {
     "languageId": "polyglot-notebook"
    }
   },
   "outputs": [],
   "source": [
    "KernelArguments arguments = new() \n",
    "{\n",
    "    { \"beginning\", \"the factory needed workers\" },\n",
    "    { \"middle\", \"training was deployed\" },\n",
    "    { \"end\", \"and everyone was able to feed their families\"}\n",
    "};\n",
    "\n",
    "var result = await kernel.InvokePromptAsync(@\"\n",
    "Tell me a very short story that started with {{$beginning}},\n",
    "then {{$middle}} happened,\n",
    "and it ended with {{$end}}.\n",
    "\", arguments);\n",
    "Console.WriteLine(Utils.WordWrap(result.ToString(),80));\n",
    "Console.WriteLine();"
   ]
  },
  {
   "cell_type": "markdown",
   "metadata": {},
   "source": [
    "## 🧐 WWKVD? The six kinds of narratives"
   ]
  },
  {
   "cell_type": "markdown",
   "metadata": {},
   "source": [
    "| Narrative | Story Arc |\n",
    "|---|---|\n",
    "| Rags to riches | Start at the bottom, rise up to the top |\n",
    "| Riches to rag | Start at the top, fall to the bottom |\n",
    "| Person (\"Man\") in a hole | Fall at the start, and then rise |\n",
    "| Icarus | Rise up and then fall |\n",
    "| Cinderella | Rise up, then fall down, then rise to the top |\n",
    "| Oedipus | Fall down, then rise, then fall way way down |"
   ]
  },
  {
   "cell_type": "code",
   "execution_count": null,
   "metadata": {
    "dotnet_interactive": {
     "language": "csharp"
    },
    "polyglot_notebook": {
     "kernelName": "csharp"
    },
    "vscode": {
     "languageId": "polyglot-notebook"
    }
   },
   "outputs": [],
   "source": [
    "KernelArguments contextforkv = new() \n",
    "{\n",
    "    { \"story\", result.ToString() }\n",
    "};\n",
    "\n",
    "var result2 = await kernel.InvokePromptAsync(@\"\n",
    "According to Kurt Vonnegut's taxonomy for stories, \n",
    "choose the best classification for this story: \n",
    "---\n",
    "{{$story}}\n",
    "---\n",
    "When the story fits no pattern and reads like nonsense, \n",
    "call it out as TRASH.\n",
    "\", contextforkv);\n",
    "\n",
    "Console.WriteLine(Utils.WordWrap(result2.ToString(),80));\n",
    "Console.WriteLine();"
   ]
  }
 ],
 "metadata": {
  "language_info": {
   "name": "python"
  }
 },
 "nbformat": 4,
 "nbformat_minor": 2
}
