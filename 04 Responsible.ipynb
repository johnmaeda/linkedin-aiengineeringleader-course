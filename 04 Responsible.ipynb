{
 "cells": [
  {
   "cell_type": "markdown",
   "metadata": {},
   "source": [
    "# **Responsible** AI is about an ownership mentality of what AI does in products, what it does with people, what it does _to_ people, and knowing that everything ultimately impacts our earth."
   ]
  },
  {
   "cell_type": "markdown",
   "metadata": {},
   "source": [
    "## 💙 Responsible AI Principles at Microsoft\n",
    "\n",
    "| Liberal Arts | Engineering |\n",
    "|---|---|\n",
    "| Fairness | Reliability & Safety |\n",
    "| Inclusiveness | Privacy & Security |\n",
    "| Accountability | Transparency |"
   ]
  },
  {
   "cell_type": "markdown",
   "metadata": {},
   "source": [
    "## 📅 The Copilot Stack in March 2023, by Kevin Scott CTO and EVP of AI @ Microsoft\n",
    "\n",
    "![](assets/copilotstack.png)"
   ]
  },
  {
   "cell_type": "markdown",
   "metadata": {},
   "source": [
    "## 🔖 The TL;DR of the Copilot Stack @Microsoft"
   ]
  },
  {
   "cell_type": "markdown",
   "metadata": {},
   "source": [
    "![](assets/copilotstackwazure.png)"
   ]
  },
  {
   "cell_type": "markdown",
   "metadata": {},
   "source": [
    "Let's show how that commitment goes deep into the Copilot Stack by popping into Azure to [deploy a model to see how safety gets baked in wherever is technically possible](https://azure.microsoft.com/en-us/products/ai-services/ai-content-safety/). And ICYMI there's a popular 📺 course on [**\"AI UX for Developers\"**](https://www.linkedin.com/learning/ux-for-ai-design-practices-for-ai-developers) to learn about Responsible AI at the upper levels of the Copilot Stack."
   ]
  },
  {
   "cell_type": "markdown",
   "metadata": {},
   "source": [
    "## 🔥 We warm up a kernel"
   ]
  },
  {
   "cell_type": "code",
   "execution_count": null,
   "metadata": {
    "dotnet_interactive": {
     "language": "csharp"
    },
    "polyglot_notebook": {
     "kernelName": "csharp"
    },
    "vscode": {
     "languageId": "polyglot-notebook"
    }
   },
   "outputs": [],
   "source": [
    "#r \"nuget: Microsoft.SemanticKernel, 1.1.0\""
   ]
  },
  {
   "cell_type": "code",
   "execution_count": null,
   "metadata": {
    "dotnet_interactive": {
     "language": "csharp"
    },
    "polyglot_notebook": {
     "kernelName": "csharp"
    },
    "vscode": {
     "languageId": "polyglot-notebook"
    }
   },
   "outputs": [],
   "source": [
    "// Load settings\n",
    "#!import config/Settings.cs \n",
    "\n",
    "var (useAzureOpenAI, model, azureEndpoint, apiKey, orgId) = Settings.LoadFromFile();"
   ]
  },
  {
   "cell_type": "code",
   "execution_count": null,
   "metadata": {
    "dotnet_interactive": {
     "language": "csharp"
    },
    "polyglot_notebook": {
     "kernelName": "csharp"
    },
    "vscode": {
     "languageId": "polyglot-notebook"
    }
   },
   "outputs": [],
   "source": [
    "using System;\n",
    "using System.ComponentModel;\n",
    "using System.Threading.Tasks;\n",
    "using Microsoft.SemanticKernel;\n",
    "using Microsoft.SemanticKernel.Connectors.OpenAI;\n",
    "using Kernel = Microsoft.SemanticKernel.Kernel;\n",
    "\n",
    "// Create a kernel with OpenAI chat completion\n",
    "IKernelBuilder kernelBuilder = Kernel.CreateBuilder();\n",
    "kernelBuilder.AddOpenAIChatCompletion(\n",
    "        modelId: model,\n",
    "        apiKey: apiKey);\n",
    "\n",
    "Kernel kernel = kernelBuilder.Build();"
   ]
  },
  {
   "cell_type": "markdown",
   "metadata": {},
   "source": [
    "## 🚚 We can add a prompt rendering handle to intercept prompts coming into SK"
   ]
  },
  {
   "cell_type": "code",
   "execution_count": null,
   "metadata": {
    "dotnet_interactive": {
     "language": "csharp"
    },
    "polyglot_notebook": {
     "kernelName": "csharp"
    },
    "vscode": {
     "languageId": "polyglot-notebook"
    }
   },
   "outputs": [],
   "source": [
    "#pragma warning disable SKEXP0004\n",
    "\n",
    "// Handler which is called before a prompt is rendered\n",
    "void MyRenderingHandler(object? sender, PromptRenderingEventArgs e)\n",
    "{\n",
    "    if (e.Arguments.ContainsName(\"card_number\"))\n",
    "    {\n",
    "        e.Arguments[\"card_number\"] = \"**** **** **** ****\";\n",
    "    }\n",
    "}\n",
    "kernel.PromptRendering += MyRenderingHandler;\n"
   ]
  },
  {
   "cell_type": "markdown",
   "metadata": {},
   "source": [
    "## 🚚 We can add extra verbiage to every prompt with the prompt rendered handle"
   ]
  },
  {
   "cell_type": "code",
   "execution_count": null,
   "metadata": {
    "dotnet_interactive": {
     "language": "csharp"
    },
    "polyglot_notebook": {
     "kernelName": "csharp"
    },
    "vscode": {
     "languageId": "polyglot-notebook"
    }
   },
   "outputs": [],
   "source": [
    "#pragma warning disable SKEXP0004\n",
    "\n",
    "// Handler which is called after a prompt is rendered\n",
    "void MyRenderedHandler(object? sender, PromptRenderedEventArgs e)\n",
    "{\n",
    "    e.RenderedPrompt += \" NO SEXISM, RACISM OR OTHER BIAS/BIGOTRY\";\n",
    "\n",
    "    Console.WriteLine($\"Complete rendered prompt:\\n>> {e.RenderedPrompt}\");\n",
    "}\n",
    "kernel.PromptRendered += MyRenderedHandler;"
   ]
  },
  {
   "cell_type": "markdown",
   "metadata": {},
   "source": [
    "## ❤️ This all means we can consciously tune everything going into the LLM as responsibly as we can"
   ]
  },
  {
   "cell_type": "markdown",
   "metadata": {},
   "source": [
    "Let's simulate a credit card number is going into the LLM as input data. We're able to monitor if an argument is submitting info, or we can scan the entire prompt to sanitize it."
   ]
  },
  {
   "cell_type": "code",
   "execution_count": null,
   "metadata": {
    "dotnet_interactive": {
     "language": "csharp"
    },
    "polyglot_notebook": {
     "kernelName": "csharp"
    },
    "vscode": {
     "languageId": "polyglot-notebook"
    }
   },
   "outputs": [],
   "source": [
    "KernelArguments arguments = new() { { \"card_number\", \"4444 3333 2222 1111\" } };\n",
    "Console.WriteLine(await kernel.InvokePromptAsync(\"Tell me some useful information about this credit card number {{$card_number}}?\", arguments));"
   ]
  },
  {
   "cell_type": "markdown",
   "metadata": {},
   "source": [
    "Alternatively, let's say something terribly in appropriate. Note that the model itself has been trained to stay within appropriate conversation norms."
   ]
  },
  {
   "cell_type": "code",
   "execution_count": null,
   "metadata": {
    "dotnet_interactive": {
     "language": "csharp"
    },
    "polyglot_notebook": {
     "kernelName": "csharp"
    },
    "vscode": {
     "languageId": "polyglot-notebook"
    }
   },
   "outputs": [],
   "source": [
    "Console.WriteLine(await kernel.InvokePromptAsync(\"I don't think that men can cook.\"));"
   ]
  }
 ],
 "metadata": {
  "language_info": {
   "name": "csharp"
  }
 },
 "nbformat": 4,
 "nbformat_minor": 2
}
