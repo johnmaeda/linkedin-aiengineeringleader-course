{
 "cells": [
  {
   "cell_type": "markdown",
   "metadata": {},
   "source": [
    "# **Agents** are about a team that is working for YOU. This version illustrates that by displaying the conversation in a horizontal mode."
   ]
  },
  {
   "cell_type": "markdown",
   "metadata": {},
   "source": [
    "## 🔥 We start with a little warmup routine ..."
   ]
  },
  {
   "cell_type": "code",
   "execution_count": null,
   "metadata": {
    "dotnet_interactive": {
     "language": "csharp"
    },
    "polyglot_notebook": {
     "kernelName": "csharp"
    },
    "vscode": {
     "languageId": "polyglot-notebook"
    }
   },
   "outputs": [],
   "source": [
    "#r \"nuget: Microsoft.SemanticKernel, 1.1.0\"\n",
    "#r \"nuget: Microsoft.SemanticKernel.Experimental.Agents, 1.1.0-alpha\"\n",
    "\n",
    "using System;\n",
    "using System.Collections.Generic;\n",
    "using System.Linq;\n",
    "using System.Threading.Tasks;"
   ]
  },
  {
   "cell_type": "code",
   "execution_count": null,
   "metadata": {
    "dotnet_interactive": {
     "language": "csharp"
    },
    "polyglot_notebook": {
     "kernelName": "csharp"
    },
    "vscode": {
     "languageId": "polyglot-notebook"
    }
   },
   "outputs": [],
   "source": [
    "// Load settings\n",
    "#!import config/Settings.cs \n",
    "#!import config/ColDisplay.cs\n",
    "\n",
    "var (useAzureOpenAI, model, azureEndpoint, apiKey, orgId) = Settings.LoadFromFile();"
   ]
  },
  {
   "cell_type": "markdown",
   "metadata": {},
   "source": [
    "# 🕵️ Let's get our agents ready by creating job descriptions"
   ]
  },
  {
   "cell_type": "code",
   "execution_count": null,
   "metadata": {
    "dotnet_interactive": {
     "language": "csharp"
    },
    "polyglot_notebook": {
     "kernelName": "csharp"
    },
    "vscode": {
     "languageId": "polyglot-notebook"
    }
   },
   "outputs": [],
   "source": [
    "using Microsoft.SemanticKernel.Experimental.Agents;\n",
    "\n",
    "#pragma warning disable SKEXP0101\n",
    "\n",
    "const string OpenAIFunctionEnabledModel = \"gpt-4-1106-preview\";\n",
    "\n",
    "const string TerminationCondition = \"PRINT IT\";\n",
    "const int MaxTerminalWidth = 150;\n",
    "\n",
    "static readonly List<(string Name, string JobDescription)> agentInfo = new()\n",
    "{\n",
    "//     (\"Project Manager\", @\"\n",
    "// You are a project manager with a background in marketing and are\n",
    "// eager to provide a data-centric role in the process. Your responses\n",
    "// are always extremely brief and to the point. No longer than one sentence.\"),\n",
    "    (\"Copywriter\", @\"\n",
    "You are a copywriter with ten years of experience and are known for \n",
    "brevity and a dry humor.You're laser focused on the goal at hand. \n",
    "Don't waste time with chit chat.The goal is to refine and decide \n",
    "on the single best copy as an expert in the field.  Consider suggestions\n",
    "when refining an idea.\"),\n",
    "    (\"Art Director\", $@\"\n",
    "You are an art director who has opinions about copywriting born of\n",
    "a love for David Ogilvy.The goal is to provide insight on how to\n",
    "refine suggested copy without example.Always respond to the most\n",
    "recent message by evaluating and providing critique without example.\n",
    "Always repeat the copy at the beginning. If copy is acceptable and \n",
    "meets your criteria, say: {TerminationCondition}.\"),\n",
    "    // Add more agents here\n",
    "};\n",
    "\n",
    "// you can change the number of columns to display information\n",
    "DisplayManager displayManager = new DisplayManager(MaxTerminalWidth, agentInfo.Count);\n"
   ]
  },
  {
   "cell_type": "markdown",
   "metadata": {},
   "source": [
    "# 🏃 Run the agents in a round-robin manner"
   ]
  },
  {
   "cell_type": "code",
   "execution_count": null,
   "metadata": {
    "dotnet_interactive": {
     "language": "csharp"
    },
    "polyglot_notebook": {
     "kernelName": "csharp"
    },
    "vscode": {
     "languageId": "polyglot-notebook"
    }
   },
   "outputs": [],
   "source": [
    "#pragma warning disable SKEXP0101\n",
    "\n",
    "// Track agents for clean-up\n",
    "static readonly List<IAgent> s_agents = new();\n",
    "static IAgentThread? s_currentThread = null;\n",
    "\n",
    "async Task RunCollaborationAsync(string userInput)\n",
    "{\n",
    "    IAgentThread? thread = null;\n",
    "\n",
    "\n",
    "    try\n",
    "    {\n",
    "        var agents = new List<IAgent>();\n",
    "        foreach (var (name, jobDescription) in agentInfo)\n",
    "        {\n",
    "            var agent = await CreateAgentAsync(name, jobDescription);\n",
    "            agents.Add(agent);\n",
    "            displayManager.SetColumnText(name, jobDescription);\n",
    "        }\n",
    "\n",
    "        thread = await agents.First().NewThreadAsync();\n",
    "        s_currentThread = thread;\n",
    "\n",
    "        Console.WriteLine($\"FYI: https://platform.openai.com/playground?assistant={agents.First().Id}&mode=assistant&thread={thread.Id}\");\n",
    "\n",
    "        var messageUser = await thread.AddUserMessageAsync($\"concept: {userInput}\");\n",
    "\n",
    "        bool isComplete = false;\n",
    "        while (!isComplete)\n",
    "        {\n",
    "            foreach (var agent in agents)\n",
    "            {\n",
    "                var agentMessages = await thread.InvokeAsync(agent).ToArrayAsync();\n",
    "                DisplayMessages(agentMessages, agent);\n",
    "\n",
    "                // Check for a specific condition to end the collaboration\n",
    "                if (agentMessages.Any(m => m.Content.Contains(TerminationCondition, StringComparison.OrdinalIgnoreCase)))\n",
    "                {\n",
    "                    isComplete = true;\n",
    "                    break;\n",
    "                }\n",
    "            }\n",
    "        }\n",
    "    }\n",
    "    finally\n",
    "    {\n",
    "        if (thread != null)\n",
    "        {\n",
    "            await thread.DeleteAsync();\n",
    "        }\n",
    "    }\n",
    "}\n",
    "\n",
    "async Task<IAgent> CreateAgentAsync(string name, string jobDescription)\n",
    "{\n",
    "    return Track(\n",
    "        await new AgentBuilder()\n",
    "            .WithOpenAIChatCompletion(OpenAIFunctionEnabledModel, apiKey)\n",
    "            .WithInstructions(jobDescription)\n",
    "            .WithName(name)\n",
    "            .WithDescription(name)\n",
    "            .BuildAsync());\n",
    "}\n",
    "\n",
    "async Task CleanUpAsync()\n",
    "{\n",
    "    Console.WriteLine(\"🧽 Cleaning up ...\");\n",
    "    if (s_currentThread != null)\n",
    "    {\n",
    "        Console.WriteLine(\"Thread going away ...\");\n",
    "        s_currentThread.DeleteAsync();\n",
    "        s_currentThread = null;\n",
    "    }\n",
    "\n",
    "    if (s_agents.Any())\n",
    "    {\n",
    "        Console.WriteLine(\"Agents going away ...\");\n",
    "        await Task.WhenAll(s_agents.Select(a => a.DeleteAsync()));\n",
    "        s_agents.Clear();\n",
    "    }\n",
    "}\n",
    "\n",
    "IAgent Track(IAgent agent)\n",
    "{\n",
    "    s_agents.Add(agent);\n",
    "\n",
    "    return agent;\n",
    "}\n",
    "\n",
    "#pragma warning disable SKEXP0101\n",
    "\n",
    "void DisplayMessages(IEnumerable<IChatMessage> messages, IAgent? agent = null)\n",
    "{\n",
    "    foreach (var message in messages)\n",
    "    {\n",
    "        if (agent != null)\n",
    "        {\n",
    "            var agentTuple = agentInfo.FirstOrDefault(a => a.Name == agent.Name);\n",
    "            displayManager.SetMainSpeaker(agent.Name);\n",
    "            displayManager.UpdateColumnText(agent.Name, message.Content);\n",
    "            gDisplay.Update(displayManager.GetFormattedDisplay());        \n",
    "        }\n",
    "    }\n",
    "}\n",
    "\n",
    "void PrintPreamble()\n",
    "{\n",
    "    Console.WriteLine(\"\\n======== Running Multi-Agent Collaboration ========\\n\");\n",
    "\n",
    "    Console.WriteLine(\"Available agents:\");\n",
    "    foreach (var (Name, _) in agentInfo)\n",
    "    {\n",
    "        Console.WriteLine($\"- {Name}\");\n",
    "    }\n",
    "}\n",
    "\n",
    "async Task RunAsync()\n",
    "{\n",
    "    // Prompt for user input\n",
    "    string userInput = await InteractiveKernel.GetInputAsync(\"Enter your concept:\");\n",
    "    var lastLine = display(\"Concept we are exploring: \" + userInput);\n",
    "\n",
    "    // Explicit collaboration\n",
    "    try {\n",
    "        await RunCollaborationAsync(userInput);\n",
    "        lastLine.Update(@\"\n",
    "    🏁 COMPLETED\n",
    "\n",
    "    ===\n",
    "    If this kind of work excites you, be sure to check out Autogen, AutoGPT, and BabyAGI to enter the multi-agent universe head-first!\n",
    "    ===\n",
    "    \");\n",
    "    }\n",
    "    finally{\n",
    "        await CleanUpAsync();\n",
    "    }\n",
    "}\n",
    "\n",
    "PrintPreamble();\n",
    "var gDisplay = display(\"Getting ready ...\");\n",
    "await RunAsync();\n"
   ]
  },
  {
   "cell_type": "markdown",
   "metadata": {},
   "source": [
    "## 🧽 If you exited the code prematurely, it's good to cleanup"
   ]
  },
  {
   "cell_type": "code",
   "execution_count": null,
   "metadata": {
    "dotnet_interactive": {
     "language": "csharp"
    },
    "polyglot_notebook": {
     "kernelName": "csharp"
    },
    "vscode": {
     "languageId": "polyglot-notebook"
    }
   },
   "outputs": [],
   "source": [
    "await CleanUpAsync();"
   ]
  }
 ],
 "metadata": {
  "language_info": {
   "name": "python"
  }
 },
 "nbformat": 4,
 "nbformat_minor": 2
}
