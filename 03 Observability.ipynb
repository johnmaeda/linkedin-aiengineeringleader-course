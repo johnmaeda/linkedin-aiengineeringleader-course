{
 "cells": [
  {
   "cell_type": "markdown",
   "metadata": {},
   "source": [
    "# **Observability** means being able to know what's happening at any given time. By knowing what's happening within the kernel, it's easier for you to determine how to manage the non-determinism that's intrinsic to LLMs."
   ]
  },
  {
   "cell_type": "markdown",
   "metadata": {},
   "source": [
    "The best way to experience the observability that's built into Semantic Kernel is to use the [Azure Application Insights example](https://github.com/microsoft/semantic-kernel/tree/main/dotnet/samples/TelemetryExample), but if at the programming level you want to see what we've made easy for you to observe, then keep on going!"
   ]
  },
  {
   "cell_type": "markdown",
   "metadata": {},
   "source": [
    "## 🔥 We warm up a kernel"
   ]
  },
  {
   "cell_type": "code",
   "execution_count": null,
   "metadata": {
    "dotnet_interactive": {
     "language": "csharp"
    },
    "polyglot_notebook": {
     "kernelName": "csharp"
    },
    "vscode": {
     "languageId": "polyglot-notebook"
    }
   },
   "outputs": [],
   "source": [
    "#r \"nuget: Microsoft.SemanticKernel, 1.1.0\""
   ]
  },
  {
   "cell_type": "code",
   "execution_count": null,
   "metadata": {
    "dotnet_interactive": {
     "language": "csharp"
    },
    "polyglot_notebook": {
     "kernelName": "csharp"
    },
    "vscode": {
     "languageId": "polyglot-notebook"
    }
   },
   "outputs": [],
   "source": [
    "// Load settings\n",
    "#!import config/Settings.cs \n",
    "\n",
    "var (useAzureOpenAI, model, azureEndpoint, apiKey, orgId) = Settings.LoadFromFile();"
   ]
  },
  {
   "cell_type": "code",
   "execution_count": null,
   "metadata": {
    "dotnet_interactive": {
     "language": "csharp"
    },
    "polyglot_notebook": {
     "kernelName": "csharp"
    },
    "vscode": {
     "languageId": "polyglot-notebook"
    }
   },
   "outputs": [],
   "source": [
    "using System;\n",
    "using System.ComponentModel;\n",
    "using System.Threading.Tasks;\n",
    "using Microsoft.SemanticKernel;\n",
    "using Microsoft.SemanticKernel.Connectors.OpenAI;\n",
    "using Kernel = Microsoft.SemanticKernel.Kernel;\n",
    "\n",
    "Kernel kernel;\n",
    "\n",
    "if (useAzureOpenAI) {\n",
    "    kernel = Kernel.CreateBuilder()\n",
    "        .AddAzureOpenAIChatCompletion(model, azureEndpoint, apiKey)\n",
    "        .Build();\n",
    "} else {\n",
    "    kernel = Kernel.CreateBuilder()\n",
    "        .AddOpenAIChatCompletion(model, apiKey, orgId)\n",
    "        .Build();\n",
    "}"
   ]
  },
  {
   "cell_type": "markdown",
   "metadata": {},
   "source": [
    "## 🔌 Then we add a Plugin"
   ]
  },
  {
   "cell_type": "code",
   "execution_count": null,
   "metadata": {
    "dotnet_interactive": {
     "language": "csharp"
    },
    "polyglot_notebook": {
     "kernelName": "csharp"
    },
    "vscode": {
     "languageId": "polyglot-notebook"
    }
   },
   "outputs": [],
   "source": [
    "// Make a plugin that can be used to get the current time\n",
    "public class TimeInformationPlugin\n",
    "{\n",
    "    [KernelFunction]\n",
    "    [Description(\"Retrieves the current time in UTC.\")]\n",
    "    public string GetCurrentUtcTime() => DateTime.UtcNow.ToString(\"R\");\n",
    "}\n",
    "kernel.ImportPluginFromType<TimeInformationPlugin>();"
   ]
  },
  {
   "cell_type": "markdown",
   "metadata": {},
   "source": [
    "## 🪝 And then we attach event handlers to report what's up"
   ]
  },
  {
   "cell_type": "code",
   "execution_count": null,
   "metadata": {
    "dotnet_interactive": {
     "language": "csharp"
    },
    "polyglot_notebook": {
     "kernelName": "csharp"
    },
    "vscode": {
     "languageId": "polyglot-notebook"
    }
   },
   "outputs": [],
   "source": [
    "using System.Text.Json;\n",
    "\n",
    "JsonSerializerOptions s_jsonOptionsCache = new() { WriteIndented = true };\n",
    "\n",
    "#pragma warning disable SKEXP0004\n",
    "\n",
    "// Handler which is called before a function is invoked\n",
    "void MyInvokingHandler(object? sender, FunctionInvokingEventArgs e)\n",
    "{\n",
    "    var func = e.Function.Metadata;\n",
    "    Console.WriteLine($\">> 👀 Invoking:\\n  {func.PluginName}-{func.Name}\");\n",
    "}\n",
    "\n",
    "// Handler which is called after a prompt is rendered\n",
    "void MyRenderedHandler(object? sender, PromptRenderedEventArgs e)\n",
    "{\n",
    "    Console.WriteLine($\">> 👀 Prompt sent to model:\\n  {e.RenderedPrompt}\");\n",
    "}\n",
    "\n",
    "// Handler which is called after a function is invoked\n",
    "void MyInvokedHandler(object? sender, FunctionInvokedEventArgs e)\n",
    "{\n",
    "    if (e.Result.Metadata is not null && e.Result.Metadata.ContainsKey(\"Usage\"))\n",
    "    {\n",
    "        string s = JsonSerializer.Serialize(e.Result.Metadata?[\"Usage\"], s_jsonOptionsCache);\n",
    "        Console.WriteLine($\">> 👀 Token usage:{s}\");\n",
    "    }\n",
    "}\n",
    "\n",
    "// Add the handlers to the kernel\n",
    "kernel.FunctionInvoking += MyInvokingHandler;\n",
    "kernel.PromptRendered += MyRenderedHandler;\n",
    "kernel.FunctionInvoked += MyInvokedHandler;"
   ]
  },
  {
   "cell_type": "markdown",
   "metadata": {},
   "source": [
    "## 👀🏃 We can now clearly see what's happening along the way"
   ]
  },
  {
   "cell_type": "code",
   "execution_count": null,
   "metadata": {
    "dotnet_interactive": {
     "language": "csharp"
    },
    "polyglot_notebook": {
     "kernelName": "csharp"
    },
    "vscode": {
     "languageId": "polyglot-notebook"
    }
   },
   "outputs": [],
   "source": [
    "// Invoke the kernel with a prompt and allow the AI to automatically invoke functions\n",
    "OpenAIPromptExecutionSettings settings = new() { ToolCallBehavior = ToolCallBehavior.AutoInvokeKernelFunctions };\n",
    "Console.WriteLine(await kernel.InvokePromptAsync(\"How many days until Christmas? Explain your thinking.\", new(settings)))"
   ]
  }
 ],
 "metadata": {
  "language_info": {
   "name": "csharp"
  }
 },
 "nbformat": 4,
 "nbformat_minor": 2
}
